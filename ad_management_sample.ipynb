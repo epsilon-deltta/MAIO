{
 "cells": [
  {
   "cell_type": "code",
   "execution_count": 60,
   "id": "renewable-ireland",
   "metadata": {},
   "outputs": [],
   "source": [
    "import pandas as pd\n",
    "import numpy as np\n",
    "import seaborn as sns\n",
    "import matplotlib.pyplot as plt"
   ]
  },
  {
   "cell_type": "code",
   "execution_count": 16,
   "id": "sunset-knowing",
   "metadata": {},
   "outputs": [],
   "source": [
    "import time\n",
    "import random\n",
    "import requests\n",
    "\n",
    "import signaturehelper"
   ]
  },
  {
   "cell_type": "code",
   "execution_count": null,
   "id": "subtle-furniture",
   "metadata": {},
   "outputs": [],
   "source": [
    "# !pip install requests==2.21.0 "
   ]
  },
  {
   "cell_type": "markdown",
   "id": "thrown-rebound",
   "metadata": {},
   "source": [
    "#### - Get Keywords from Naver Searching Advertisement\n",
    "\n",
    "![](./img/naver-ads.jpg) "
   ]
  },
  {
   "cell_type": "code",
   "execution_count": 28,
   "id": "cross-ballot",
   "metadata": {},
   "outputs": [
    {
     "data": {
      "text/plain": [
       "{'Content-Type': 'application/json; charset=UTF-8',\n",
       " 'X-Timestamp': '1612338453856',\n",
       " 'X-API-KEY': '01000000002c6573aff319a7fb49a48153878c0e3559a4cddf9da1a4e404cb94b9716d9b85',\n",
       " 'X-Customer': '1930249',\n",
       " 'X-Signature': b'RyUG4nE9gvuWgv0HR1vbX+DIBoo/MZt9G2y50vxt7rM='}"
      ]
     },
     "execution_count": 28,
     "metadata": {},
     "output_type": "execute_result"
    }
   ],
   "source": [
    "get_header(method, uri, API_KEY, SECRET_KEY, CUSTOMER_ID)"
   ]
  },
  {
   "cell_type": "code",
   "execution_count": 52,
   "id": "dimensional-naples",
   "metadata": {},
   "outputs": [],
   "source": [
    "\n",
    "keydict = {}\n",
    "with open('./keys.txt','r') as f:\n",
    "    lines = f.readlines()\n",
    "    for line in lines:\n",
    "        keyname = line.split('=')[0]\n",
    "        key = line.split('=',maxsplit=1)[1].strip()\n",
    "        keydict[keyname] = key\n",
    "    \n",
    "\n",
    "API_KEY = keydict['API_KEY']\n",
    "SECRET_KEY = keydict['SECRET_KEY']\n",
    "CUSTOMER_ID = int(keydict['CUSTOMER_ID'])"
   ]
  },
  {
   "cell_type": "code",
   "execution_count": 57,
   "id": "unlikely-adolescent",
   "metadata": {},
   "outputs": [],
   "source": [
    "def get_header(method, uri, api_key, secret_key, customer_id):\n",
    "    timestamp = str(round(time.time() * 1000))\n",
    "    signature = signaturehelper.Signature.generate(timestamp, method, uri, SECRET_KEY)\n",
    "    return {\n",
    "            'Content-Type': 'application/json; charset=UTF-8',\n",
    "            'X-Timestamp': timestamp,\n",
    "            'X-API-KEY': API_KEY,\n",
    "            'X-Customer': str(CUSTOMER_ID), \n",
    "            'X-Signature': signature\n",
    "           }\n",
    "\n",
    "BASE_URL = 'https://api.naver.com'\n",
    "\n",
    "\n",
    "# API_KEY='01000000002c6573aff319a7fb49a48153878c0e3559a4cddf9da1a4e404cb94b9716d9b85'\n",
    "# SECRET_KEY='AQAAAAAsZXOv8xmn+0mkgVOHjA41adczLrAq2j84OKjr0N/NNA=='\n",
    "# CUSTOMER_ID=1930249\n",
    "uri = '/keywordstool'\n",
    "method = 'GET'\n",
    "payload={\n",
    "        'hintKeywords':'쌍화차',\n",
    "        'showDetail' :1\n",
    "        }\n",
    "\n",
    "r = requests.get(BASE_URL + uri, params=payload, headers=get_header(method, uri, API_KEY, SECRET_KEY, CUSTOMER_ID))\n",
    "# json = payload #if you use \n",
    "\n",
    "# print(\"response status_code = {}\".format(r.status_code) )\n",
    "# print(\"response body = {}\".format(r.json() )  )\n",
    "\n",
    "keywords = r.json()['keywordList'][:100]\n",
    "\n",
    "del r"
   ]
  },
  {
   "cell_type": "markdown",
   "id": "limiting-range",
   "metadata": {},
   "source": [
    "#### response json Structure\n",
    "{'keyswordList':  [{...},{...},, .    ]  }   \n",
    "{\n",
    "    \"relKeyword\": \"쌍화탕\",\n",
    "    \"monthlyPcQcCnt\": \">10\",\n",
    "    \"monthlyMobileQcCnt\": \">10\",\n",
    "    \"monthlyAvePcClkCnt\": \">10\",\n",
    "    \"monthlyAveMobileClkCnt\": \">10\",\n",
    "    \"monthlyAvePcCtr\": \">10\",\n",
    "    \"monthlyAveMobileCtr\": \">10\",\n",
    "    \"plAvgDepth\": \">10\",\n",
    "    \"compIdx\": \"high\"\n",
    "}"
   ]
  },
  {
   "cell_type": "code",
   "execution_count": 65,
   "id": "arabic-bracket",
   "metadata": {},
   "outputs": [],
   "source": [
    "keywords = pd.DataFrame(keywords)"
   ]
  },
  {
   "cell_type": "code",
   "execution_count": 70,
   "id": "prompt-application",
   "metadata": {},
   "outputs": [],
   "source": [
    "pd.set_option('display.max_rows',200)"
   ]
  },
  {
   "cell_type": "markdown",
   "id": "biblical-beads",
   "metadata": {},
   "source": [
    "- 월간 검색수 : 네이버를 이용한 사용자가 PC 및 모바일 에서 해당 키워드를 검색한 횟수\n",
    "- 월평균 클릭수 : 최근 한 달 간 사용자가 해당 키워드를 검색했을 때, 통합검색 영역에 노출된 광고가 받은 평균 클릭수 입니다 \n",
    "- 월평균 클릭률 \n",
    "- 경쟁 정도 : 높음 / 중간 / 낮음\n"
   ]
  },
  {
   "cell_type": "code",
   "execution_count": 80,
   "id": "moved-impossible",
   "metadata": {},
   "outputs": [],
   "source": [
    "keywords.columns = ['relkeyword','sch','mob_sch','click','mob_click','clk_r','mob_clk_r','num_ads','comp']\n",
    "\n",
    "comp_dic={'높음':2,'중간':1,'낮음':0}\n",
    "\n",
    "keywords.comp = keywords.comp.apply(lambda x : comp_dic[x])\n",
    "keywords.sch = keywords.sch.astype('str').str.replace('< ','').astype('int')\n",
    "keywords.mob_sch = keywords.mob_sch.astype('str').str.replace('< ','').astype('int')"
   ]
  },
  {
   "cell_type": "code",
   "execution_count": 136,
   "id": "magnetic-investor",
   "metadata": {},
   "outputs": [],
   "source": [
    "keywords.to_csv('relkeyword.csv')"
   ]
  },
  {
   "cell_type": "code",
   "execution_count": 121,
   "id": "ecological-institution",
   "metadata": {},
   "outputs": [],
   "source": [
    "# example of filter\n",
    "def get_harmony(x,y):\n",
    "    return 2/ ( (1/x)+(1/y) )\n",
    "\n",
    "def get_hotkeyword(keywords):\n",
    "    sch_harmony = get_harmony(keywords.sch,keywords.mob_sch)\n",
    "    sch_q6 = sch_harmony.quantile(q=0.6)\n",
    "    \n",
    "    clkr_harmony = get_harmony(keywords.clk_r,keywords.mob_clk_r)\n",
    "    clkr_q6 = clkr_harmony.quantile(q=0.6)\n",
    "    return keywords[ (sch_harmony>sch_q6) & (clkr_harmony>clkr_q6) ]"
   ]
  },
  {
   "cell_type": "code",
   "execution_count": 150,
   "id": "particular-interpretation",
   "metadata": {},
   "outputs": [],
   "source": [
    "# save data\n",
    "keywords.to_csv('data/keywords.csv')\n",
    "import pickle\n",
    "with open('data/keywords.pkl','wb') as f:\n",
    "    pickle.dump(keywords,f)"
   ]
  },
  {
   "cell_type": "markdown",
   "id": "random-northwest",
   "metadata": {},
   "source": [
    "#### - Get graph from Naver DataLab \n",
    "\n",
    "![](./img/datalab.png) "
   ]
  },
  {
   "cell_type": "code",
   "execution_count": 153,
   "id": "sized-trinidad",
   "metadata": {
    "collapsed": true,
    "jupyter": {
     "outputs_hidden": true
    }
   },
   "outputs": [
    {
     "name": "stdout",
     "output_type": "stream",
     "text": [
      "{\"startDate\":\"2017-01-01\",\"endDate\":\"2017-04-30\",\"timeUnit\":\"month\",\"results\":[{\"title\":\"한글\",\"keywords\":[\"한글\",\"korean\"],\"data\":[{\"period\":\"2017-01-01\",\"ratio\":47.00101},{\"period\":\"2017-02-01\",\"ratio\":53.23619},{\"period\":\"2017-03-01\",\"ratio\":100},{\"period\":\"2017-04-01\",\"ratio\":85.327}]},{\"title\":\"영어\",\"keywords\":[\"영어\",\"english\"],\"data\":[{\"period\":\"2017-01-01\",\"ratio\":40.0881},{\"period\":\"2017-02-01\",\"ratio\":36.69942},{\"period\":\"2017-03-01\",\"ratio\":52.11792},{\"period\":\"2017-04-01\",\"ratio\":44.4595}]}]}\n"
     ]
    }
   ],
   "source": [
    "# standard sample provided by Naver Developers site\n",
    "#-*- coding: utf-8 -*-\n",
    "import os\n",
    "import sys\n",
    "import urllib.request\n",
    "client_id = \"mPqve99kz5A07ptbK3BE\"\n",
    "client_secret = \"zfhC0sLs8M\"\n",
    "url = \"https://openapi.naver.com/v1/datalab/search\";\n",
    "body = \"{\\\"startDate\\\":\\\"2017-01-01\\\",\\\"endDate\\\":\\\"2017-04-30\\\",\\\"timeUnit\\\":\\\"month\\\",\\\"keywordGroups\\\":[{\\\"groupName\\\":\\\"한글\\\",\\\"keywords\\\":[\\\"한글\\\",\\\"korean\\\"]},{\\\"groupName\\\":\\\"영어\\\",\\\"keywords\\\":[\\\"영어\\\",\\\"english\\\"]}],\\\"device\\\":\\\"pc\\\",\\\"ages\\\":[\\\"1\\\",\\\"2\\\"],\\\"gender\\\":\\\"f\\\"}\";\n",
    "\n",
    "request = urllib.request.Request(url)\n",
    "request.add_header(\"X-Naver-Client-Id\",client_id)\n",
    "request.add_header(\"X-Naver-Client-Secret\",client_secret)\n",
    "request.add_header(\"Content-Type\",\"application/json\")\n",
    "response = urllib.request.urlopen(request, data=body.encode(\"utf-8\"))\n",
    "rescode = response.getcode()\n",
    "if(rescode==200):\n",
    "    response_body = response.read()\n",
    "    print(response_body.decode('utf-8'))\n",
    "else:\n",
    "    print(\"Error Code:\" + rescode)"
   ]
  },
  {
   "cell_type": "code",
   "execution_count": null,
   "id": "liberal-palestinian",
   "metadata": {},
   "outputs": [],
   "source": [
    "# changed to requests library #😁 i'm comfortable of this"
   ]
  },
  {
   "cell_type": "code",
   "execution_count": 169,
   "id": "opposite-brother",
   "metadata": {},
   "outputs": [],
   "source": [
    "client_id = \"mPqve99kz5A07ptbK3BE\"\n",
    "client_secret = \"zfhC0sLs8M\"\n",
    "url = \"https://openapi.naver.com/v1/datalab/search\";\n",
    "body = {\n",
    "    'startDate': '2017-01-01',\n",
    "    'endDate': '2017-04-30',\n",
    "    'timeUnit': 'month',\n",
    "    'keywordGroups': [{'groupName': '한글', 'keywords': ['한글', 'korean']},\n",
    "                      {'groupName': '영어', 'keywords': ['영어', 'english']}],\n",
    "    'device': 'pc',\n",
    "    'ages': ['1', '2'],\n",
    "    'gender': 'f'\n",
    "}\n",
    "\n",
    "header = {}\n",
    "header[\"X-Naver-Client-Id\"] = client_id\n",
    "header[\"X-Naver-Client-Secret\"] = client_secret\n",
    "header[\"Content-Type\"]=\"application/json\"\n",
    "rq = requests.post(url ,json=body0 ,headers=header )\n"
   ]
  },
  {
   "cell_type": "code",
   "execution_count": 171,
   "id": "southwest-sphere",
   "metadata": {},
   "outputs": [],
   "source": [
    "rq.status_code\n",
    "rq.json()"
   ]
  },
  {
   "cell_type": "code",
   "execution_count": 175,
   "id": "frequent-visibility",
   "metadata": {},
   "outputs": [],
   "source": [
    "from matplotlib import font_manager, rc\n",
    "font_name = font_manager.FontProperties(fname=\"c:/Windows/Fonts/malgun.ttf\").get_name()\n",
    "rc('font', family=font_name)"
   ]
  },
  {
   "cell_type": "code",
   "execution_count": 222,
   "id": "italic-grade",
   "metadata": {},
   "outputs": [
    {
     "data": {
      "image/png": "[encoded data removed]",
      "text/plain": [
       "<Figure size 432x288 with 1 Axes>"
      ]
     },
     "metadata": {
      "needs_background": "light"
     },
     "output_type": "display_data"
    }
   ],
   "source": [
    "for item in rq.json()['results']:\n",
    "    x=[]\n",
    "    y=[]\n",
    "    for day in item['data']:\n",
    "        x.append(day['period'].split('-')[0][2:]+'/'+day['period'].split('-')[1])\n",
    "        y.append(day['ratio'])\n",
    "    plt.plot(x,y,label=item['title'])\n",
    "plt.legend(loc='best')\n",
    "plt.show()\n"
   ]
  },
  {
   "cell_type": "markdown",
   "id": "floppy-newcastle",
   "metadata": {},
   "source": [
    "### - Integrate Ads Keywords & DataLab to one System \n",
    "\n",
    "![](img/crowd.png)"
   ]
  },
  {
   "cell_type": "code",
   "execution_count": 319,
   "id": "varying-grill",
   "metadata": {},
   "outputs": [],
   "source": [
    "# Korean font for matplotlib graph \n",
    "from matplotlib import font_manager, rc\n",
    "font_name = font_manager.FontProperties(fname=\"c:/Windows/Fonts/malgun.ttf\").get_name()\n",
    "rc('font', family=font_name)\n",
    "# Get keys from keys.txt file\n",
    "keydict = {}\n",
    "with open('./keys.txt','r') as f:\n",
    "    lines = f.readlines()\n",
    "    for line in lines:\n",
    "        keyname = line.split('=')[0]\n",
    "        key = line.split('=',maxsplit=1)[1].strip()\n",
    "        keydict[keyname] = key\n",
    "    \n",
    "\n",
    "API_KEY = keydict['API_KEY']\n",
    "SECRET_KEY = keydict['SECRET_KEY']\n",
    "CUSTOMER_ID = int(keydict['CUSTOMER_ID'])\n",
    "client_id = keydict['nav_client_id']\n",
    "client_secret = keydict['nav_client_id']"
   ]
  },
  {
   "cell_type": "code",
   "execution_count": 320,
   "id": "moving-gambling",
   "metadata": {},
   "outputs": [],
   "source": [
    "kwd = '쌍화차'\n",
    "\n",
    "## naver ads keywords\n",
    "def get_header(method, uri, api_key, secret_key, customer_id):\n",
    "    timestamp = str(round(time.time() * 1000))\n",
    "    signature = signaturehelper.Signature.generate(timestamp, method, uri, SECRET_KEY)\n",
    "    return {\n",
    "            'Content-Type': 'application/json; charset=UTF-8',\n",
    "            'X-Timestamp': timestamp,\n",
    "            'X-API-KEY': API_KEY,\n",
    "            'X-Customer': str(CUSTOMER_ID), \n",
    "            'X-Signature': signature\n",
    "           }\n",
    "\n",
    "BASE_URL = 'https://api.naver.com'\n",
    "\n",
    "uri = '/keywordstool'\n",
    "method = 'GET'\n",
    "payload={\n",
    "        'hintKeywords':kwd,\n",
    "        'showDetail' :1\n",
    "        }\n",
    "\n",
    "r = requests.get(BASE_URL + uri, params=payload, headers=get_header(method, uri, API_KEY, SECRET_KEY, CUSTOMER_ID))\n",
    "# json = payload #if you use \n",
    "\n",
    "# print(\"response status_code = {}\".format(r.status_code) )\n",
    "# print(\"response body = {}\".format(r.json() )  )\n",
    "\n",
    "keywords = r.json()['keywordList'][:100]\n",
    "\n",
    "del r\n",
    "keywords = pd.DataFrame(keywords)"
   ]
  },
  {
   "cell_type": "code",
   "execution_count": 321,
   "id": "owned-macintosh",
   "metadata": {},
   "outputs": [],
   "source": [
    "keywords10 = keywords[:10]"
   ]
  },
  {
   "cell_type": "code",
   "execution_count": 323,
   "id": "advance-ratio",
   "metadata": {},
   "outputs": [
    {
     "data": {
      "text/html": [
       "<div>\n",
       "<style scoped>\n",
       "    .dataframe tbody tr th:only-of-type {\n",
       "        vertical-align: middle;\n",
       "    }\n",
       "\n",
       "    .dataframe tbody tr th {\n",
       "        vertical-align: top;\n",
       "    }\n",
       "\n",
       "    .dataframe thead th {\n",
       "        text-align: right;\n",
       "    }\n",
       "</style>\n",
       "<table border=\"1\" class=\"dataframe\">\n",
       "  <thead>\n",
       "    <tr style=\"text-align: right;\">\n",
       "      <th></th>\n",
       "      <th>relKeyword</th>\n",
       "      <th>monthlyPcQcCnt</th>\n",
       "      <th>monthlyMobileQcCnt</th>\n",
       "      <th>monthlyAvePcClkCnt</th>\n",
       "      <th>monthlyAveMobileClkCnt</th>\n",
       "      <th>monthlyAvePcCtr</th>\n",
       "      <th>monthlyAveMobileCtr</th>\n",
       "      <th>plAvgDepth</th>\n",
       "      <th>compIdx</th>\n",
       "    </tr>\n",
       "  </thead>\n",
       "  <tbody>\n",
       "    <tr>\n",
       "      <th>0</th>\n",
       "      <td>쌍화차</td>\n",
       "      <td>7100</td>\n",
       "      <td>56100</td>\n",
       "      <td>51.7</td>\n",
       "      <td>1589.8</td>\n",
       "      <td>0.78</td>\n",
       "      <td>2.85</td>\n",
       "      <td>15</td>\n",
       "      <td>높음</td>\n",
       "    </tr>\n",
       "    <tr>\n",
       "      <th>1</th>\n",
       "      <td>생강차</td>\n",
       "      <td>4670</td>\n",
       "      <td>24700</td>\n",
       "      <td>16.7</td>\n",
       "      <td>432.6</td>\n",
       "      <td>0.37</td>\n",
       "      <td>1.76</td>\n",
       "      <td>15</td>\n",
       "      <td>높음</td>\n",
       "    </tr>\n",
       "    <tr>\n",
       "      <th>2</th>\n",
       "      <td>한방차</td>\n",
       "      <td>2020</td>\n",
       "      <td>3010</td>\n",
       "      <td>11.3</td>\n",
       "      <td>58.8</td>\n",
       "      <td>0.60</td>\n",
       "      <td>2.10</td>\n",
       "      <td>15</td>\n",
       "      <td>높음</td>\n",
       "    </tr>\n",
       "    <tr>\n",
       "      <th>3</th>\n",
       "      <td>대추차</td>\n",
       "      <td>2300</td>\n",
       "      <td>14000</td>\n",
       "      <td>9.1</td>\n",
       "      <td>241.9</td>\n",
       "      <td>0.42</td>\n",
       "      <td>1.76</td>\n",
       "      <td>15</td>\n",
       "      <td>높음</td>\n",
       "    </tr>\n",
       "    <tr>\n",
       "      <th>4</th>\n",
       "      <td>쌍화차재료</td>\n",
       "      <td>450</td>\n",
       "      <td>4650</td>\n",
       "      <td>10.7</td>\n",
       "      <td>311.1</td>\n",
       "      <td>2.47</td>\n",
       "      <td>6.46</td>\n",
       "      <td>15</td>\n",
       "      <td>높음</td>\n",
       "    </tr>\n",
       "    <tr>\n",
       "      <th>5</th>\n",
       "      <td>쌍화탕재료</td>\n",
       "      <td>300</td>\n",
       "      <td>2630</td>\n",
       "      <td>9.5</td>\n",
       "      <td>184.2</td>\n",
       "      <td>3.37</td>\n",
       "      <td>7.15</td>\n",
       "      <td>15</td>\n",
       "      <td>높음</td>\n",
       "    </tr>\n",
       "    <tr>\n",
       "      <th>6</th>\n",
       "      <td>아카시아꿀</td>\n",
       "      <td>1950</td>\n",
       "      <td>17200</td>\n",
       "      <td>21.1</td>\n",
       "      <td>478.0</td>\n",
       "      <td>1.19</td>\n",
       "      <td>3.06</td>\n",
       "      <td>15</td>\n",
       "      <td>높음</td>\n",
       "    </tr>\n",
       "    <tr>\n",
       "      <th>7</th>\n",
       "      <td>정읍쌍화차</td>\n",
       "      <td>510</td>\n",
       "      <td>6770</td>\n",
       "      <td>11.3</td>\n",
       "      <td>255.9</td>\n",
       "      <td>2.53</td>\n",
       "      <td>3.96</td>\n",
       "      <td>13</td>\n",
       "      <td>중간</td>\n",
       "    </tr>\n",
       "    <tr>\n",
       "      <th>8</th>\n",
       "      <td>핫초코</td>\n",
       "      <td>3330</td>\n",
       "      <td>14900</td>\n",
       "      <td>3.7</td>\n",
       "      <td>15.0</td>\n",
       "      <td>0.12</td>\n",
       "      <td>0.11</td>\n",
       "      <td>15</td>\n",
       "      <td>높음</td>\n",
       "    </tr>\n",
       "    <tr>\n",
       "      <th>9</th>\n",
       "      <td>수정과</td>\n",
       "      <td>1640</td>\n",
       "      <td>11800</td>\n",
       "      <td>3.1</td>\n",
       "      <td>6.3</td>\n",
       "      <td>0.22</td>\n",
       "      <td>0.06</td>\n",
       "      <td>15</td>\n",
       "      <td>높음</td>\n",
       "    </tr>\n",
       "  </tbody>\n",
       "</table>\n",
       "</div>"
      ],
      "text/plain": [
       "  relKeyword monthlyPcQcCnt monthlyMobileQcCnt  monthlyAvePcClkCnt  \\\n",
       "0        쌍화차           7100              56100                51.7   \n",
       "1        생강차           4670              24700                16.7   \n",
       "2        한방차           2020               3010                11.3   \n",
       "3        대추차           2300              14000                 9.1   \n",
       "4      쌍화차재료            450               4650                10.7   \n",
       "5      쌍화탕재료            300               2630                 9.5   \n",
       "6      아카시아꿀           1950              17200                21.1   \n",
       "7      정읍쌍화차            510               6770                11.3   \n",
       "8        핫초코           3330              14900                 3.7   \n",
       "9        수정과           1640              11800                 3.1   \n",
       "\n",
       "   monthlyAveMobileClkCnt  monthlyAvePcCtr  monthlyAveMobileCtr  plAvgDepth  \\\n",
       "0                  1589.8             0.78                 2.85          15   \n",
       "1                   432.6             0.37                 1.76          15   \n",
       "2                    58.8             0.60                 2.10          15   \n",
       "3                   241.9             0.42                 1.76          15   \n",
       "4                   311.1             2.47                 6.46          15   \n",
       "5                   184.2             3.37                 7.15          15   \n",
       "6                   478.0             1.19                 3.06          15   \n",
       "7                   255.9             2.53                 3.96          13   \n",
       "8                    15.0             0.12                 0.11          15   \n",
       "9                     6.3             0.22                 0.06          15   \n",
       "\n",
       "  compIdx  \n",
       "0      높음  \n",
       "1      높음  \n",
       "2      높음  \n",
       "3      높음  \n",
       "4      높음  \n",
       "5      높음  \n",
       "6      높음  \n",
       "7      중간  \n",
       "8      높음  \n",
       "9      높음  "
      ]
     },
     "execution_count": 323,
     "metadata": {},
     "output_type": "execute_result"
    }
   ],
   "source": [
    "keywords10"
   ]
  },
  {
   "cell_type": "code",
   "execution_count": 322,
   "id": "remarkable-vulnerability",
   "metadata": {},
   "outputs": [
    {
     "ename": "AttributeError",
     "evalue": "'DataFrame' object has no attribute 'relkeyword'",
     "output_type": "error",
     "traceback": [
      "\u001b[1;31m---------------------------------------------------------------------------\u001b[0m",
      "\u001b[1;31mAttributeError\u001b[0m                            Traceback (most recent call last)",
      "\u001b[1;32m<ipython-input-322-4a0217ab925e>\u001b[0m in \u001b[0;36m<module>\u001b[1;34m\u001b[0m\n\u001b[0;32m      4\u001b[0m \u001b[0mstart\u001b[0m   \u001b[1;33m=\u001b[0m \u001b[1;33m(\u001b[0m\u001b[0mdatetime\u001b[0m\u001b[1;33m.\u001b[0m\u001b[0mnow\u001b[0m\u001b[1;33m(\u001b[0m\u001b[1;33m)\u001b[0m \u001b[1;33m-\u001b[0m \u001b[0mdelta\u001b[0m\u001b[1;33m(\u001b[0m\u001b[0myears\u001b[0m\u001b[1;33m=\u001b[0m\u001b[1;36m1\u001b[0m\u001b[1;33m)\u001b[0m \u001b[1;33m)\u001b[0m\u001b[1;33m.\u001b[0m\u001b[0mstrftime\u001b[0m\u001b[1;33m(\u001b[0m\u001b[1;34m'%Y-%m-%d'\u001b[0m\u001b[1;33m)\u001b[0m\u001b[1;33m\u001b[0m\u001b[1;33m\u001b[0m\u001b[0m\n\u001b[0;32m      5\u001b[0m \u001b[1;33m\u001b[0m\u001b[0m\n\u001b[1;32m----> 6\u001b[1;33m \u001b[0mkwds\u001b[0m\u001b[1;33m=\u001b[0m\u001b[0mkeywords10\u001b[0m\u001b[1;33m.\u001b[0m\u001b[0mrelkeyword\u001b[0m\u001b[1;33m.\u001b[0m\u001b[0mto_list\u001b[0m\u001b[1;33m(\u001b[0m\u001b[1;33m)\u001b[0m\u001b[1;33m\u001b[0m\u001b[1;33m\u001b[0m\u001b[0m\n\u001b[0m",
      "\u001b[1;32mc:\\users\\epsilon\\dev\\anaconda\\envs\\kera\\lib\\site-packages\\pandas\\core\\generic.py\u001b[0m in \u001b[0;36m__getattr__\u001b[1;34m(self, name)\u001b[0m\n\u001b[0;32m   5139\u001b[0m             \u001b[1;32mif\u001b[0m \u001b[0mself\u001b[0m\u001b[1;33m.\u001b[0m\u001b[0m_info_axis\u001b[0m\u001b[1;33m.\u001b[0m\u001b[0m_can_hold_identifiers_and_holds_name\u001b[0m\u001b[1;33m(\u001b[0m\u001b[0mname\u001b[0m\u001b[1;33m)\u001b[0m\u001b[1;33m:\u001b[0m\u001b[1;33m\u001b[0m\u001b[1;33m\u001b[0m\u001b[0m\n\u001b[0;32m   5140\u001b[0m                 \u001b[1;32mreturn\u001b[0m \u001b[0mself\u001b[0m\u001b[1;33m[\u001b[0m\u001b[0mname\u001b[0m\u001b[1;33m]\u001b[0m\u001b[1;33m\u001b[0m\u001b[1;33m\u001b[0m\u001b[0m\n\u001b[1;32m-> 5141\u001b[1;33m             \u001b[1;32mreturn\u001b[0m \u001b[0mobject\u001b[0m\u001b[1;33m.\u001b[0m\u001b[0m__getattribute__\u001b[0m\u001b[1;33m(\u001b[0m\u001b[0mself\u001b[0m\u001b[1;33m,\u001b[0m \u001b[0mname\u001b[0m\u001b[1;33m)\u001b[0m\u001b[1;33m\u001b[0m\u001b[1;33m\u001b[0m\u001b[0m\n\u001b[0m\u001b[0;32m   5142\u001b[0m \u001b[1;33m\u001b[0m\u001b[0m\n\u001b[0;32m   5143\u001b[0m     \u001b[1;32mdef\u001b[0m \u001b[0m__setattr__\u001b[0m\u001b[1;33m(\u001b[0m\u001b[0mself\u001b[0m\u001b[1;33m,\u001b[0m \u001b[0mname\u001b[0m\u001b[1;33m:\u001b[0m \u001b[0mstr\u001b[0m\u001b[1;33m,\u001b[0m \u001b[0mvalue\u001b[0m\u001b[1;33m)\u001b[0m \u001b[1;33m->\u001b[0m \u001b[1;32mNone\u001b[0m\u001b[1;33m:\u001b[0m\u001b[1;33m\u001b[0m\u001b[1;33m\u001b[0m\u001b[0m\n",
      "\u001b[1;31mAttributeError\u001b[0m: 'DataFrame' object has no attribute 'relkeyword'"
     ]
    }
   ],
   "source": [
    "from datetime import datetime\n",
    "from dateutil.relativedelta import relativedelta as delta\n",
    "end = datetime.now().strftime('%Y-%m-%d')\n",
    "start   = (datetime.now() - delta(years=1) ).strftime('%Y-%m-%d')\n",
    "\n",
    "kwds=keywords10.relkeyword.to_list()"
   ]
  },
  {
   "cell_type": "code",
   "execution_count": 232,
   "id": "immediate-civilization",
   "metadata": {},
   "outputs": [],
   "source": [
    "## naver data lab\n",
    "client_id = \"mPqve99kz5A07ptbK3BE\"\n",
    "client_secret = \"zfhC0sLs8M\"\n",
    "url = \"https://openapi.naver.com/v1/datalab/search\";\n",
    "body = {\n",
    "    'startDate': start,\n",
    "    'endDate':  end,\n",
    "    'timeUnit': 'month',\n",
    "    'keywordGroups' :[]\n",
    "#     'keywordGroups': [{'groupName': '한글', 'keywords': ['한글', 'korean']},\n",
    "#                       {'groupName': '영어', 'keywords': ['영어', 'english']}],\n",
    "#     'device': 'pc',\n",
    "#     'ages': ['1', '2'],\n",
    "#     'gender': 'f'\n",
    "}\n",
    "for kw in kwds:\n",
    "    group = { 'groupName': kw , 'keywords': [kw] }\n",
    "    body['keywordGroups'].append(group)\n",
    "\n",
    "header = {}\n",
    "header[\"X-Naver-Client-Id\"] = client_id\n",
    "header[\"X-Naver-Client-Secret\"] = client_secret\n",
    "header[\"Content-Type\"]=\"application/json\"\n",
    "rq = requests.post(url ,json=body ,headers=header )\n",
    "\n",
    "results = rq.json()['results']"
   ]
  },
  {
   "cell_type": "code",
   "execution_count": 305,
   "id": "skilled-bouquet",
   "metadata": {
    "collapsed": true,
    "jupyter": {
     "outputs_hidden": true
    }
   },
   "outputs": [
    {
     "data": {
      "text/plain": [
       "Text(0, 0.5, 'Trend')"
      ]
     },
     "execution_count": 305,
     "metadata": {},
     "output_type": "execute_result"
    },
    {
     "data": {
      "image/png": "[encoded data removed]",
      "text/plain": [
       "<Figure size 1080x576 with 1 Axes>"
      ]
     },
     "metadata": {
      "needs_background": "light"
     },
     "output_type": "display_data"
    }
   ],
   "source": [
    "fig, axs = plt.subplots(1, 1, constrained_layout=True, sharey=True,figsize=(15,8))\n",
    "for item in results:\n",
    "    df = pd.DataFrame(item['data'])\n",
    "    axs.plot(df.period,df.ratio,'--o',label=item['title'])\n",
    "\n",
    "axs.grid(True)  \n",
    "plt.xticks(rotation=45)\n",
    "plt.legend(loc='best')\n",
    "plt.xlabel('month')\n",
    "plt.ylabel('Trend')\n",
    "fig.savefig('data/graph.png')\n",
    "# plt.title('jax')"
   ]
  },
  {
   "cell_type": "code",
   "execution_count": 308,
   "id": "advanced-administration",
   "metadata": {},
   "outputs": [],
   "source": [
    "os.remove('data/graph.png')"
   ]
  },
  {
   "cell_type": "code",
   "execution_count": null,
   "id": "effective-vessel",
   "metadata": {},
   "outputs": [],
   "source": [
    "def keyword_graph(kwd)"
   ]
  },
  {
   "cell_type": "markdown",
   "id": "iraqi-detection",
   "metadata": {},
   "source": [
    "### never mind 🔽"
   ]
  },
  {
   "cell_type": "markdown",
   "id": "neural-retro",
   "metadata": {},
   "source": [
    "##### Guide of Naver ads keywords API "
   ]
  },
  {
   "cell_type": "code",
   "execution_count": null,
   "id": "mental-daniel",
   "metadata": {},
   "outputs": [],
   "source": [
    "# BusinessChannel Usage Sample\n",
    "\n",
    "uri = '/ncc/channels'\n",
    "method = 'GET'\n",
    "r = requests.get(BASE_URL + uri, headers=get_header(method, uri, API_KEY, SECRET_KEY, CUSTOMER_ID))\n",
    "\n",
    "print(\"response status_code = {}\".format(r.status_code))\n",
    "print(\"response body = {}\".format(r.json()))\n",
    "\n",
    "\n",
    "# Adgroup Usage Sample\n",
    "\n",
    "# 1. GET adgroup Usage Sample\n",
    "\n",
    "uri = '/ncc/adgroups'\n",
    "method = 'GET'\n",
    "r = requests.get(BASE_URL + uri, headers=get_header(method, uri, API_KEY, SECRET_KEY, CUSTOMER_ID))\n",
    "\n",
    "print(\"response status_code = {}\".format(r.status_code))\n",
    "print(\"response body = {}\".format(r.json()))\n",
    "target_adgroup = r.json()[0]\n",
    "\n",
    "# 2. CREATE adgroup Usage Sample\n",
    "\n",
    "uri = '/ncc/adgroups'\n",
    "method = 'POST'\n",
    "payload = {'name': 'TEST#' + str(random.randrange(1000, 9999)), 'nccCampaignId' : target_adgroup['nccCampaignId'], 'pcChannelId' : target_adgroup['pcChannelId'], 'mobileChannelId': target_adgroup['mobileChannelId']}\n",
    "r = requests.post(BASE_URL + uri, json=payload, headers=get_header(method, uri, API_KEY, SECRET_KEY, CUSTOMER_ID))\n",
    "\n",
    "print(\"response status_code = {}\".format(r.status_code))\n",
    "print(\"response body = {}\".format(r.json()))\n",
    "\n",
    "created_adgroup = r.json()\n",
    "\n",
    "# 3. UPDATE Adgroup Usage Sample\n",
    "\n",
    "uri = '/ncc/adgroups/' + created_adgroup['nccAdgroupId']\n",
    "method = 'PUT'\n",
    "created_adgroup['userLock'] = 0\n",
    "r = requests.put(BASE_URL + uri, params={'fields': 'userLock'}, json=created_adgroup, headers=get_header(method, uri, API_KEY, SECRET_KEY, CUSTOMER_ID))\n",
    "\n",
    "print(\"response status_code = {}\".format(r.status_code))\n",
    "print(\"response body = {}\".format(r.json()))\n",
    "\n",
    "# 4. DELETE Adgroup\n",
    "\n",
    "uri = '/ncc/adgroups/' + created_adgroup['nccAdgroupId']\n",
    "method = 'DELETE'\n",
    "r = requests.delete(BASE_URL + uri, headers=get_header(method, uri, API_KEY, SECRET_KEY, CUSTOMER_ID))\n",
    "\n",
    "print(\"response status_code = {}\".format(r.status_code))\n",
    "print(\"response body = {}\".format(r.content))\n",
    "\n",
    "# AdKeyword Usage Sample\n",
    "\n",
    "# 1. CREATE AdKeyword\n",
    "\n",
    "uri = '/ncc/keywords'\n",
    "method = 'POST'\n",
    "r = requests.post(BASE_URL + uri, params={'nccAdgroupId': created_adgroup['nccAdgroupId']}, json=[{'keyword': 'hello'}], headers=get_header(method, uri, API_KEY, SECRET_KEY, CUSTOMER_ID))\n",
    "\n",
    "print(\"response status_code = {}\".format(r.status_code))\n",
    "print(\"response body = {}\".format(r.json()))\n",
    "\n",
    "created_adkeyword = r.json()[0]\n",
    "\n",
    "# 2. GET AdKeyword\n",
    "\n",
    "uri = '/ncc/keywords'\n",
    "method = 'GET'\n",
    "r = requests.get(BASE_URL + uri, params={'nccAdgroupId': created_adgroup['nccAdgroupId']}, headers=get_header(method, uri, API_KEY, SECRET_KEY, CUSTOMER_ID))\n",
    "\n",
    "print(\"response status_code = {}\".format(r.status_code))\n",
    "print(\"response body = {}\".format(r.json()))\n",
    "\n",
    "# 3. UPDATE AdKeyword\n",
    "\n",
    "uri = '/ncc/keywords'\n",
    "method = 'PUT'\n",
    "created_adkeyword['userLock'] = 0\n",
    "r = requests.put(BASE_URL + uri, params={'fields': 'userLock'}, json=[created_adkeyword], headers=get_header(method, uri, API_KEY, SECRET_KEY, CUSTOMER_ID))\n",
    "\n",
    "print(\"response status_code = {}\".format(r.status_code))\n",
    "print(\"response body = {}\".format(r.json()))\n",
    "\n",
    "\n",
    "# 4. GET and UPDATE AdKeyword (BidAmt)\n",
    "\n",
    "uri = '/ncc/keywords/' + created_adkeyword['nccKeywordId']\n",
    "method = 'GET'\n",
    "r = requests.get(BASE_URL + uri, headers=get_header(method, uri, API_KEY, SECRET_KEY, CUSTOMER_ID))\n",
    "\n",
    "print(\"response status_code = {}\".format(r.status_code))\n",
    "print(\"response body = {}\".format(r.json()))\n",
    "\n",
    "retrieved_adkeyword = r.json()\n",
    "\n",
    "uri = '/ncc/keywords'\n",
    "method = 'PUT'\n",
    "retrieved_adkeyword['bidAmt'] = 300\n",
    "retrieved_adkeyword['useGroupBidAmt'] = 0\n",
    "r = requests.put(BASE_URL + uri, params={'fields': 'bidAmt'}, json=[retrieved_adkeyword], headers=get_header(method, uri, API_KEY, SECRET_KEY, CUSTOMER_ID))\n",
    "\n",
    "print(\"response status_code = {}\".format(r.status_code))\n",
    "print(\"response body = {}\".format(r.json()))\n",
    "\n",
    "\n",
    "# 5. DELETE AdKeyword\n",
    "\n",
    "uri = '/ncc/keywords/' + created_adkeyword['nccKeywordId']\n",
    "method = 'DELETE'\n",
    "r = requests.delete(BASE_URL + uri, headers=get_header(method, uri, API_KEY, SECRET_KEY, CUSTOMER_ID))\n",
    "\n",
    "print(\"response status_code = {}\".format(r.status_code))\n",
    "print(\"response body = {}\".format(r.content))\n",
    "\n",
    "\n",
    "# Estimate Usage Sample\n",
    "\n",
    "# 1. average-position-bid\n",
    "\n",
    "uri = '/estimate/average-position-bid/keyword'\n",
    "method = 'POST'\n",
    "r = requests.post(BASE_URL + uri, json={'device': 'PC', 'items': [{'key': '제주여행', 'position': 1}, {'key': '게스트하우스', 'position': 2}, {'key': '자전거여행', 'position': 3}]}, headers=get_header(method, uri, API_KEY, SECRET_KEY, CUSTOMER_ID))\n",
    "\n",
    "print(\"#response status_code = {}\".format(r.status_code))\n",
    "print(\"#response body = {}\".format(r.json()))\n",
    "\n",
    "\n",
    "# 2. exposure-minimum-bid\n",
    "\n",
    "uri = '/estimate/exposure-minimum-bid/keyword'\n",
    "method = 'POST'\n",
    "r = requests.post(BASE_URL + uri, json={'device': 'PC', 'period': 'MONTH', 'items': ['제주여행', '게시트하우스', '자전거여행']}, headers=get_header(method, uri, API_KEY, SECRET_KEY, CUSTOMER_ID))\n",
    "\n",
    "print(\"response status_code = {}\".format(r.status_code))\n",
    "print(\"response body = {}\".format(r.json()))\n",
    "\n",
    "# 3. median-bid\n",
    "\n",
    "uri = '/estimate/median-bid/keyword'\n",
    "method = 'POST'\n",
    "r = requests.post(BASE_URL + uri, json={'device': 'PC', 'period': 'MONTH', 'items': ['제주여행', '게시트하우스', '자전거여행']}, headers=get_header(method, uri, API_KEY, SECRET_KEY, CUSTOMER_ID))\n",
    "\n",
    "print(\"response status_code = {}\".format(r.status_code))\n",
    "print(\"response body = {}\".format(r.json()))\n",
    "\n",
    "\n",
    "# 4. performance\n",
    "\n",
    "uri = '/estimate/performance/keyword'\n",
    "method = 'POST'\n",
    "r = requests.post(BASE_URL + uri, json={'device': 'PC', 'keywordplus': True, 'key': '중고차', 'bids': [100, 500, 1000, 1500, 2000, 3000, 5000]}, headers=get_header(method, uri, API_KEY, SECRET_KEY, CUSTOMER_ID))\n",
    "\n",
    "print(\"response status_code = {}\".format(r.status_code))\n",
    "print(\"response body = {}\".format(r.json()))\n",
    "\n",
    "# 5. performance-bulk\n",
    "\n",
    "uri = '/estimate/performance-bulk'\n",
    "method = 'POST'\n",
    "r = requests.post(BASE_URL + uri, json={'items': [{'device': 'PC', 'keywordplus': True, 'keyword': '제주여행', 'bid': 70}, {'device': 'PC', 'keywordplus': True, 'keyword': '제주도', 'bid': 80}, {'device': 'PC', 'keywordplus': True, 'keyword': '제주도맛집', 'bid': 90}, ]}, headers=get_header(method, uri, API_KEY, SECRET_KEY, CUSTOMER_ID))\n",
    "\n",
    "print(\"response status_code = {}\".format(r.status_code))\n",
    "print(\"response body = {}\".format(r.json()))\n",
    "\n",
    "# Stat Usage Sample\n",
    "\n",
    "# 1. GET Summary Report per multiple entities \n",
    "\n",
    "uri = '/stats'\n",
    "method = 'GET'\n",
    "stat_ids = [target_adgroup['nccCampaignId'], target_adgroup['nccAdgroupId']]\n",
    "r = requests.get(BASE_URL + uri, params={'ids': stat_ids, 'fields': '[\"clkCnt\",\"impCnt\",\"salesAmt\", \"ctr\", \"cpc\", \"avgRnk\", \"ccnt\"]', 'timeRange': '{\"since\":\"2019-06-01\",\"until\":\"2019-06-25\"}'}, headers=get_header(method, uri, API_KEY, SECRET_KEY, CUSTOMER_ID))\n",
    "\n",
    "print(\"response status_code = {}\".format(r.status_code))\n",
    "print(\"response body = {}\".format(r.json()))"
   ]
  }
 ],
 "metadata": {
  "kernelspec": {
   "display_name": "Python 3",
   "language": "python",
   "name": "python3"
  },
  "language_info": {
   "codemirror_mode": {
    "name": "ipython",
    "version": 3
   },
   "file_extension": ".py",
   "mimetype": "text/x-python",
   "name": "python",
   "nbconvert_exporter": "python",
   "pygments_lexer": "ipython3",
   "version": "3.6.12"
  }
 },
 "nbformat": 4,
 "nbformat_minor": 5
}
