{
 "cells": [
  {
   "cell_type": "code",
   "execution_count": 109,
   "id": "designing-wales",
   "metadata": {},
   "outputs": [],
   "source": [
    "import pandas as pd\n",
    "import numpy as np\n",
    "import seaborn as sns\n",
    "import matplotlib.pyplot as plt\n",
    "import random as rd"
   ]
  },
  {
   "cell_type": "code",
   "execution_count": 130,
   "id": "ordinary-default",
   "metadata": {},
   "outputs": [],
   "source": [
    "# sample test\n",
    "from maio import keywordTrend as kt\n",
    "ktrend = kt('의자')\n",
    "tkwd = ktrend.tkwds"
   ]
  },
  {
   "cell_type": "code",
   "execution_count": 131,
   "id": "accredited-strand",
   "metadata": {},
   "outputs": [],
   "source": [
    "tkwd['h_sch'] = 2 / ( (1/tkwd['sch']) + (1/tkwd['mob_sch']) ) \n",
    "tkwd['h_clk'] = 2 / ( (1/tkwd['click']) + (1/tkwd['mob_click']) ) \n",
    "tkwd['h_clk_r'] = 2 / ( (1/tkwd['clk_r']) + (1/tkwd['mob_clk_r']) ) "
   ]
  },
  {
   "cell_type": "code",
   "execution_count": 4,
   "id": "suffering-essex",
   "metadata": {},
   "outputs": [],
   "source": [
    "pd.set_option('display.max_rows',500)"
   ]
  },
  {
   "cell_type": "code",
   "execution_count": 112,
   "id": "consistent-example",
   "metadata": {},
   "outputs": [
    {
     "data": {
      "text/html": [
       "<div>\n",
       "<style scoped>\n",
       "    .dataframe tbody tr th:only-of-type {\n",
       "        vertical-align: middle;\n",
       "    }\n",
       "\n",
       "    .dataframe tbody tr th {\n",
       "        vertical-align: top;\n",
       "    }\n",
       "\n",
       "    .dataframe thead th {\n",
       "        text-align: right;\n",
       "    }\n",
       "</style>\n",
       "<table border=\"1\" class=\"dataframe\">\n",
       "  <thead>\n",
       "    <tr style=\"text-align: right;\">\n",
       "      <th></th>\n",
       "      <th>relkeyword</th>\n",
       "      <th>sch</th>\n",
       "      <th>mob_sch</th>\n",
       "      <th>click</th>\n",
       "      <th>mob_click</th>\n",
       "      <th>clk_r</th>\n",
       "      <th>mob_clk_r</th>\n",
       "      <th>num_ads</th>\n",
       "      <th>comp</th>\n",
       "      <th>h_sch</th>\n",
       "      <th>h_clk</th>\n",
       "      <th>h_clk_r</th>\n",
       "    </tr>\n",
       "  </thead>\n",
       "  <tbody>\n",
       "    <tr>\n",
       "      <th>27</th>\n",
       "      <td>우체국택배</td>\n",
       "      <td>165700</td>\n",
       "      <td>408200</td>\n",
       "      <td>184.7</td>\n",
       "      <td>48.8</td>\n",
       "      <td>0.12</td>\n",
       "      <td>0.02</td>\n",
       "      <td>4</td>\n",
       "      <td>0</td>\n",
       "      <td>235716.117791</td>\n",
       "      <td>77.202227</td>\n",
       "      <td>0.034286</td>\n",
       "    </tr>\n",
       "    <tr>\n",
       "      <th>15</th>\n",
       "      <td>우체국쇼핑몰</td>\n",
       "      <td>64100</td>\n",
       "      <td>175100</td>\n",
       "      <td>650.0</td>\n",
       "      <td>983.0</td>\n",
       "      <td>1.06</td>\n",
       "      <td>0.58</td>\n",
       "      <td>1</td>\n",
       "      <td>0</td>\n",
       "      <td>93845.401338</td>\n",
       "      <td>782.547459</td>\n",
       "      <td>0.749756</td>\n",
       "    </tr>\n",
       "    <tr>\n",
       "      <th>28</th>\n",
       "      <td>설선물</td>\n",
       "      <td>49500</td>\n",
       "      <td>157800</td>\n",
       "      <td>200.7</td>\n",
       "      <td>1047.4</td>\n",
       "      <td>0.42</td>\n",
       "      <td>0.69</td>\n",
       "      <td>15</td>\n",
       "      <td>2</td>\n",
       "      <td>75360.347323</td>\n",
       "      <td>336.853105</td>\n",
       "      <td>0.522162</td>\n",
       "    </tr>\n",
       "    <tr>\n",
       "      <th>33</th>\n",
       "      <td>명절선물</td>\n",
       "      <td>28500</td>\n",
       "      <td>87900</td>\n",
       "      <td>97.5</td>\n",
       "      <td>510.7</td>\n",
       "      <td>0.35</td>\n",
       "      <td>0.60</td>\n",
       "      <td>15</td>\n",
       "      <td>2</td>\n",
       "      <td>43043.814433</td>\n",
       "      <td>163.739724</td>\n",
       "      <td>0.442105</td>\n",
       "    </tr>\n",
       "    <tr>\n",
       "      <th>9</th>\n",
       "      <td>한우선물세트</td>\n",
       "      <td>25000</td>\n",
       "      <td>96600</td>\n",
       "      <td>455.5</td>\n",
       "      <td>4653.0</td>\n",
       "      <td>1.86</td>\n",
       "      <td>4.92</td>\n",
       "      <td>15</td>\n",
       "      <td>2</td>\n",
       "      <td>39720.394737</td>\n",
       "      <td>829.770578</td>\n",
       "      <td>2.699469</td>\n",
       "    </tr>\n",
       "    <tr>\n",
       "      <th>0</th>\n",
       "      <td>홍삼</td>\n",
       "      <td>22800</td>\n",
       "      <td>109300</td>\n",
       "      <td>84.7</td>\n",
       "      <td>614.8</td>\n",
       "      <td>0.39</td>\n",
       "      <td>0.59</td>\n",
       "      <td>15</td>\n",
       "      <td>2</td>\n",
       "      <td>37729.598789</td>\n",
       "      <td>148.887949</td>\n",
       "      <td>0.469592</td>\n",
       "    </tr>\n",
       "    <tr>\n",
       "      <th>35</th>\n",
       "      <td>선물세트</td>\n",
       "      <td>21300</td>\n",
       "      <td>45800</td>\n",
       "      <td>88.6</td>\n",
       "      <td>431.7</td>\n",
       "      <td>0.43</td>\n",
       "      <td>0.97</td>\n",
       "      <td>15</td>\n",
       "      <td>2</td>\n",
       "      <td>29077.198212</td>\n",
       "      <td>147.025255</td>\n",
       "      <td>0.595857</td>\n",
       "    </tr>\n",
       "    <tr>\n",
       "      <th>24</th>\n",
       "      <td>한우</td>\n",
       "      <td>15900</td>\n",
       "      <td>87500</td>\n",
       "      <td>261.5</td>\n",
       "      <td>2760.8</td>\n",
       "      <td>1.71</td>\n",
       "      <td>3.28</td>\n",
       "      <td>15</td>\n",
       "      <td>2</td>\n",
       "      <td>26910.058027</td>\n",
       "      <td>477.748205</td>\n",
       "      <td>2.248016</td>\n",
       "    </tr>\n",
       "    <tr>\n",
       "      <th>21</th>\n",
       "      <td>우체국인터넷뱅킹</td>\n",
       "      <td>31100</td>\n",
       "      <td>5370</td>\n",
       "      <td>24.0</td>\n",
       "      <td>0.0</td>\n",
       "      <td>0.09</td>\n",
       "      <td>0.00</td>\n",
       "      <td>1</td>\n",
       "      <td>0</td>\n",
       "      <td>9158.596106</td>\n",
       "      <td>0.000000</td>\n",
       "      <td>0.000000</td>\n",
       "    </tr>\n",
       "    <tr>\n",
       "      <th>11</th>\n",
       "      <td>건강기능식품</td>\n",
       "      <td>7560</td>\n",
       "      <td>9240</td>\n",
       "      <td>27.7</td>\n",
       "      <td>51.3</td>\n",
       "      <td>0.39</td>\n",
       "      <td>0.60</td>\n",
       "      <td>15</td>\n",
       "      <td>2</td>\n",
       "      <td>8316.000000</td>\n",
       "      <td>35.974937</td>\n",
       "      <td>0.472727</td>\n",
       "    </tr>\n",
       "  </tbody>\n",
       "</table>\n",
       "</div>"
      ],
      "text/plain": [
       "   relkeyword     sch  mob_sch  click  mob_click  clk_r  mob_clk_r  num_ads  \\\n",
       "27      우체국택배  165700   408200  184.7       48.8   0.12       0.02        4   \n",
       "15     우체국쇼핑몰   64100   175100  650.0      983.0   1.06       0.58        1   \n",
       "28        설선물   49500   157800  200.7     1047.4   0.42       0.69       15   \n",
       "33       명절선물   28500    87900   97.5      510.7   0.35       0.60       15   \n",
       "9      한우선물세트   25000    96600  455.5     4653.0   1.86       4.92       15   \n",
       "0          홍삼   22800   109300   84.7      614.8   0.39       0.59       15   \n",
       "35       선물세트   21300    45800   88.6      431.7   0.43       0.97       15   \n",
       "24         한우   15900    87500  261.5     2760.8   1.71       3.28       15   \n",
       "21   우체국인터넷뱅킹   31100     5370   24.0        0.0   0.09       0.00        1   \n",
       "11     건강기능식품    7560     9240   27.7       51.3   0.39       0.60       15   \n",
       "\n",
       "    comp          h_sch       h_clk   h_clk_r  \n",
       "27     0  235716.117791   77.202227  0.034286  \n",
       "15     0   93845.401338  782.547459  0.749756  \n",
       "28     2   75360.347323  336.853105  0.522162  \n",
       "33     2   43043.814433  163.739724  0.442105  \n",
       "9      2   39720.394737  829.770578  2.699469  \n",
       "0      2   37729.598789  148.887949  0.469592  \n",
       "35     2   29077.198212  147.025255  0.595857  \n",
       "24     2   26910.058027  477.748205  2.248016  \n",
       "21     0    9158.596106    0.000000  0.000000  \n",
       "11     2    8316.000000   35.974937  0.472727  "
      ]
     },
     "execution_count": 112,
     "metadata": {},
     "output_type": "execute_result"
    }
   ],
   "source": [
    "tkwd.sort_values(['h_sch'],ascending=False)[:10]"
   ]
  },
  {
   "cell_type": "code",
   "execution_count": 132,
   "id": "suffering-techno",
   "metadata": {},
   "outputs": [],
   "source": [
    "# Standardization\n",
    "from sklearn import preprocessing\n",
    "for X in ['h_sch','h_clk'] :\n",
    "    tkwd['%s_std'%X] = preprocessing.StandardScaler() \\\n",
    "                                    .fit(tkwd[X].to_numpy().reshape(-1,1) ) \\\n",
    "                                    .transform(tkwd[X].to_numpy().reshape(-1,1) )"
   ]
  },
  {
   "cell_type": "code",
   "execution_count": 73,
   "id": "accessible-outdoors",
   "metadata": {},
   "outputs": [],
   "source": [
    "pd.set_option('display.max_columns',100)"
   ]
  },
  {
   "cell_type": "code",
   "execution_count": 108,
   "id": "thrown-harmony",
   "metadata": {},
   "outputs": [],
   "source": [
    "def stripOutlier(df,cols,strength=1):\n",
    "    \n",
    "    for col in cols :\n",
    "        q75 = df[col].quantile(q=0.75)\n",
    "        q25 = df[col].quantile(q=0.25)\n",
    "        iqr = q75 - q25\n",
    "        rbound = q75 + 1.5*strength\n",
    "        lbound = q25 - 1.5*strength\n",
    "        \n",
    "        df = df.drop(index = df[ ( lbound > tkwd[col]) | (tkwd[col] > rbound) ].index)\n",
    "        \n",
    "    return df"
   ]
  },
  {
   "cell_type": "code",
   "execution_count": 133,
   "id": "sorted-batch",
   "metadata": {},
   "outputs": [
    {
     "name": "stderr",
     "output_type": "stream",
     "text": [
      "c:\\users\\epsilon\\dev\\anaconda\\envs\\kera\\lib\\site-packages\\ipykernel_launcher.py:10: UserWarning: Boolean Series key will be reindexed to match DataFrame index.\n",
      "  # Remove the CWD from sys.path while we load stuff.\n"
     ]
    }
   ],
   "source": [
    "tkwdo = stripOutlier(tkwd,['h_sch_std','h_clk_std'])"
   ]
  },
  {
   "cell_type": "code",
   "execution_count": 128,
   "id": "confirmed-lighting",
   "metadata": {},
   "outputs": [
    {
     "data": {
      "text/plain": [
       "(-1.0, 10.0)"
      ]
     },
     "execution_count": 128,
     "metadata": {},
     "output_type": "execute_result"
    },
    {
     "data": {
      "image/png": "[encoded data removed]",
      "text/plain": [
       "<Figure size 432x288 with 1 Axes>"
      ]
     },
     "metadata": {
      "needs_background": "light"
     },
     "output_type": "display_data"
    }
   ],
   "source": [
    "plt.scatter(tkwdo.h_sch_std,tkwdo.h_clk_std)\n",
    "plt.xlim(-1,10)\n",
    "plt.ylim(-1,10)"
   ]
  },
  {
   "cell_type": "code",
   "execution_count": 134,
   "id": "eight-numbers",
   "metadata": {},
   "outputs": [
    {
     "data": {
      "text/plain": [
       "(-1.0, 10.0)"
      ]
     },
     "execution_count": 134,
     "metadata": {},
     "output_type": "execute_result"
    },
    {
     "data": {
      "image/png": "[encoded data removed]",
      "text/plain": [
       "<Figure size 432x288 with 1 Axes>"
      ]
     },
     "metadata": {
      "needs_background": "light"
     },
     "output_type": "display_data"
    }
   ],
   "source": [
    "plt.scatter(tkwd.h_sch_std,tkwd.h_clk_std)\n",
    "plt.scatter(tkwdo.h_sch_std,tkwdo.h_clk_std)\n",
    "plt.xlim(-1,10)\n",
    "plt.ylim(-1,10)"
   ]
  },
  {
   "cell_type": "code",
   "execution_count": 84,
   "id": "voluntary-burns",
   "metadata": {},
   "outputs": [],
   "source": [
    "# strip_Outlier\n",
    "cols = ['h_sch_std','h_clk_std']\n",
    "strength = 1\n",
    "\n",
    "filt_df = []\n",
    "for col in cols :\n",
    "    q75 = tkwd[col].quantile(q=0.75)\n",
    "    q25 = tkwd[col].quantile(q=0.25)\n",
    "    iqr = q75 - q25\n",
    "    rbound = q75 + 1.5*strength\n",
    "    lbound = q25 - 1.5*strength\n",
    "    filt_df.append( tkwd[ ( lbound < tkwd[col]) & (tkwd[col]<rbound) ] )\n",
    "\n",
    "df = pd.merge(*filt_df)"
   ]
  },
  {
   "cell_type": "code",
   "execution_count": 105,
   "id": "operating-cuisine",
   "metadata": {},
   "outputs": [
    {
     "data": {
      "text/plain": [
       "<matplotlib.collections.PathCollection at 0x1b833d81208>"
      ]
     },
     "execution_count": 105,
     "metadata": {},
     "output_type": "execute_result"
    },
    {
     "data": {
      "image/png": "[encoded data removed]",
      "text/plain": [
       "<Figure size 432x288 with 1 Axes>"
      ]
     },
     "metadata": {
      "needs_background": "light"
     },
     "output_type": "display_data"
    }
   ],
   "source": [
    "plt.scatter(df.h_sch_std,df.h_clk_std)"
   ]
  },
  {
   "cell_type": "code",
   "execution_count": 104,
   "id": "streaming-upgrade",
   "metadata": {},
   "outputs": [
    {
     "data": {
      "text/plain": [
       "<matplotlib.collections.PathCollection at 0x1b833c28f60>"
      ]
     },
     "execution_count": 104,
     "metadata": {},
     "output_type": "execute_result"
    },
    {
     "data": {
      "image/png": "[encoded data removed]",
      "text/plain": [
       "<Figure size 432x288 with 1 Axes>"
      ]
     },
     "metadata": {
      "needs_background": "light"
     },
     "output_type": "display_data"
    }
   ],
   "source": [
    "plt.scatter(tkwd.h_sch_std,tkwd.h_clk_std)"
   ]
  },
  {
   "cell_type": "code",
   "execution_count": null,
   "id": "norwegian-orange",
   "metadata": {},
   "outputs": [],
   "source": []
  },
  {
   "cell_type": "code",
   "execution_count": 24,
   "id": "infinite-corporation",
   "metadata": {},
   "outputs": [
    {
     "data": {
      "text/plain": [
       "<matplotlib.collections.PathCollection at 0x1b833042160>"
      ]
     },
     "execution_count": 24,
     "metadata": {},
     "output_type": "execute_result"
    },
    {
     "data": {
      "image/png": "[encoded data removed]",
      "text/plain": [
       "<Figure size 432x288 with 1 Axes>"
      ]
     },
     "metadata": {
      "needs_background": "light"
     },
     "output_type": "display_data"
    }
   ],
   "source": [
    "ol = tkwd[tkwd['h_sch']>weakol]\n",
    "notol = tkwd[tkwd['h_sch']<weakol & ]\n",
    "plt.scatter(notol.h_sch,notol.h_clk,color='blue')\n",
    "plt.scatter(ol.h_sch,ol.h_clk,color='red')"
   ]
  },
  {
   "cell_type": "code",
   "execution_count": 6,
   "id": "subject-lunch",
   "metadata": {},
   "outputs": [
    {
     "data": {
      "text/plain": [
       "<matplotlib.collections.PathCollection at 0x1b82e012748>"
      ]
     },
     "execution_count": 6,
     "metadata": {},
     "output_type": "execute_result"
    },
    {
     "data": {
      "image/png": "[encoded data removed]",
      "text/plain": [
       "<Figure size 432x288 with 1 Axes>"
      ]
     },
     "metadata": {
      "needs_background": "light"
     },
     "output_type": "display_data"
    }
   ],
   "source": [
    "# extremely low click rate, high searching\n",
    "# keyword domain ; srch too high , many meaningless searching\n",
    "plt.scatter(tkwd.h_sch,tkwd.h_clk)"
   ]
  },
  {
   "cell_type": "code",
   "execution_count": null,
   "id": "subject-credit",
   "metadata": {},
   "outputs": [],
   "source": [
    "#### detecting outliers and removing them \n",
    "#### dimensinality-reduction : pca,some projection(weight) , linear regression\n",
    "\n",
    "## pca \n",
    "## auto deteminant of the num of features"
   ]
  },
  {
   "cell_type": "code",
   "execution_count": null,
   "id": "brutal-hebrew",
   "metadata": {},
   "outputs": [],
   "source": [
    "from sklearn.decomposition import PCA\n",
    "comp_n = 2\n",
    "pca = PCA(n_components=comp_n) # 주성분을 몇개로 할지 결정\n",
    "cols = []\n",
    "for x in range(comp_n):\n",
    "    cols.append('comp_%d'%x)\n",
    "printcipalComponents = pca.fit_transform(X)\n",
    "principalDf = pd.DataFrame(data=printcipalComponents, columns = cols)"
   ]
  }
 ],
 "metadata": {
  "kernelspec": {
   "display_name": "Python 3",
   "language": "python",
   "name": "python3"
  },
  "language_info": {
   "codemirror_mode": {
    "name": "ipython",
    "version": 3
   },
   "file_extension": ".py",
   "mimetype": "text/x-python",
   "name": "python",
   "nbconvert_exporter": "python",
   "pygments_lexer": "ipython3",
   "version": "3.6.12"
  },
  "widgets": {
   "application/vnd.jupyter.widget-state+json": {
    "state": {},
    "version_major": 2,
    "version_minor": 0
   }
  }
 },
 "nbformat": 4,
 "nbformat_minor": 5
}
