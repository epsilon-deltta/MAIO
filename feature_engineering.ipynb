{
 "cells": [
  {
   "cell_type": "code",
   "execution_count": 5,
   "id": "universal-victor",
   "metadata": {},
   "outputs": [],
   "source": [
    "import pandas as pd\n",
    "import numpy as np\n",
    "import seaborn as sns\n",
    "import matplotlib.pyplot as plt\n",
    "import random as rd"
   ]
  },
  {
   "cell_type": "code",
   "execution_count": 9,
   "id": "spread-bracket",
   "metadata": {},
   "outputs": [],
   "source": [
    "# sample test\n",
    "from maio import keywordTrend as kt\n",
    "ktrend = kt('홍삼')\n",
    "tkwd = ktrend.tkwds"
   ]
  },
  {
   "cell_type": "code",
   "execution_count": 18,
   "id": "cutting-longer",
   "metadata": {},
   "outputs": [],
   "source": [
    "tkwd['h_sch'] = 2 / ( (1/tkwd['sch']) + (1/tkwd['mob_sch']) ) \n",
    "tkwd['h_clk'] = 2 / ( (1/tkwd['click']) + (1/tkwd['mob_click']) ) \n",
    "tkwd['h_clk_r'] = 2 / ( (1/tkwd['clk_r']) + (1/tkwd['mob_clk_r']) ) "
   ]
  },
  {
   "cell_type": "code",
   "execution_count": 16,
   "id": "covered-bunch",
   "metadata": {},
   "outputs": [],
   "source": [
    "pd.set_option('display.max_rows',500)"
   ]
  },
  {
   "cell_type": "code",
   "execution_count": 20,
   "id": "handy-liverpool",
   "metadata": {},
   "outputs": [
    {
     "data": {
      "text/html": [
       "<div>\n",
       "<style scoped>\n",
       "    .dataframe tbody tr th:only-of-type {\n",
       "        vertical-align: middle;\n",
       "    }\n",
       "\n",
       "    .dataframe tbody tr th {\n",
       "        vertical-align: top;\n",
       "    }\n",
       "\n",
       "    .dataframe thead th {\n",
       "        text-align: right;\n",
       "    }\n",
       "</style>\n",
       "<table border=\"1\" class=\"dataframe\">\n",
       "  <thead>\n",
       "    <tr style=\"text-align: right;\">\n",
       "      <th></th>\n",
       "      <th>relkeyword</th>\n",
       "      <th>sch</th>\n",
       "      <th>mob_sch</th>\n",
       "      <th>click</th>\n",
       "      <th>mob_click</th>\n",
       "      <th>clk_r</th>\n",
       "      <th>mob_clk_r</th>\n",
       "      <th>num_ads</th>\n",
       "      <th>comp</th>\n",
       "      <th>h_sch</th>\n",
       "      <th>h_clk</th>\n",
       "      <th>h_clk_r</th>\n",
       "    </tr>\n",
       "  </thead>\n",
       "  <tbody>\n",
       "    <tr>\n",
       "      <th>27</th>\n",
       "      <td>우체국택배</td>\n",
       "      <td>177700</td>\n",
       "      <td>426700</td>\n",
       "      <td>177.5</td>\n",
       "      <td>43.4</td>\n",
       "      <td>0.12</td>\n",
       "      <td>0.02</td>\n",
       "      <td>4</td>\n",
       "      <td>0</td>\n",
       "      <td>250908.636664</td>\n",
       "      <td>69.746492</td>\n",
       "      <td>0.034286</td>\n",
       "    </tr>\n",
       "    <tr>\n",
       "      <th>15</th>\n",
       "      <td>우체국쇼핑몰</td>\n",
       "      <td>65400</td>\n",
       "      <td>177500</td>\n",
       "      <td>800.0</td>\n",
       "      <td>1426.0</td>\n",
       "      <td>1.30</td>\n",
       "      <td>0.86</td>\n",
       "      <td>1</td>\n",
       "      <td>0</td>\n",
       "      <td>95582.544257</td>\n",
       "      <td>1024.977538</td>\n",
       "      <td>1.035185</td>\n",
       "    </tr>\n",
       "    <tr>\n",
       "      <th>28</th>\n",
       "      <td>설선물</td>\n",
       "      <td>50800</td>\n",
       "      <td>158400</td>\n",
       "      <td>220.5</td>\n",
       "      <td>1060.8</td>\n",
       "      <td>0.49</td>\n",
       "      <td>0.79</td>\n",
       "      <td>15</td>\n",
       "      <td>2</td>\n",
       "      <td>76928.489484</td>\n",
       "      <td>365.107937</td>\n",
       "      <td>0.604844</td>\n",
       "    </tr>\n",
       "    <tr>\n",
       "      <th>33</th>\n",
       "      <td>명절선물</td>\n",
       "      <td>29100</td>\n",
       "      <td>87900</td>\n",
       "      <td>101.2</td>\n",
       "      <td>495.5</td>\n",
       "      <td>0.40</td>\n",
       "      <td>0.69</td>\n",
       "      <td>15</td>\n",
       "      <td>2</td>\n",
       "      <td>43724.615385</td>\n",
       "      <td>168.073069</td>\n",
       "      <td>0.506422</td>\n",
       "    </tr>\n",
       "    <tr>\n",
       "      <th>9</th>\n",
       "      <td>한우선물세트</td>\n",
       "      <td>25700</td>\n",
       "      <td>96200</td>\n",
       "      <td>445.6</td>\n",
       "      <td>4178.8</td>\n",
       "      <td>1.99</td>\n",
       "      <td>5.31</td>\n",
       "      <td>15</td>\n",
       "      <td>2</td>\n",
       "      <td>40563.412633</td>\n",
       "      <td>805.325352</td>\n",
       "      <td>2.895041</td>\n",
       "    </tr>\n",
       "    <tr>\n",
       "      <th>0</th>\n",
       "      <td>홍삼</td>\n",
       "      <td>23800</td>\n",
       "      <td>109200</td>\n",
       "      <td>86.8</td>\n",
       "      <td>633.6</td>\n",
       "      <td>0.40</td>\n",
       "      <td>0.65</td>\n",
       "      <td>15</td>\n",
       "      <td>2</td>\n",
       "      <td>39082.105263</td>\n",
       "      <td>152.683176</td>\n",
       "      <td>0.495238</td>\n",
       "    </tr>\n",
       "    <tr>\n",
       "      <th>35</th>\n",
       "      <td>선물세트</td>\n",
       "      <td>22000</td>\n",
       "      <td>46100</td>\n",
       "      <td>89.3</td>\n",
       "      <td>413.7</td>\n",
       "      <td>0.45</td>\n",
       "      <td>1.03</td>\n",
       "      <td>15</td>\n",
       "      <td>2</td>\n",
       "      <td>29785.609398</td>\n",
       "      <td>146.892286</td>\n",
       "      <td>0.626351</td>\n",
       "    </tr>\n",
       "    <tr>\n",
       "      <th>24</th>\n",
       "      <td>한우</td>\n",
       "      <td>16400</td>\n",
       "      <td>87200</td>\n",
       "      <td>278.4</td>\n",
       "      <td>2791.0</td>\n",
       "      <td>1.84</td>\n",
       "      <td>3.59</td>\n",
       "      <td>15</td>\n",
       "      <td>2</td>\n",
       "      <td>27607.722008</td>\n",
       "      <td>506.297257</td>\n",
       "      <td>2.433002</td>\n",
       "    </tr>\n",
       "    <tr>\n",
       "      <th>21</th>\n",
       "      <td>우체국인터넷뱅킹</td>\n",
       "      <td>32800</td>\n",
       "      <td>5560</td>\n",
       "      <td>24.0</td>\n",
       "      <td>0.0</td>\n",
       "      <td>0.08</td>\n",
       "      <td>0.00</td>\n",
       "      <td>1</td>\n",
       "      <td>0</td>\n",
       "      <td>9508.237748</td>\n",
       "      <td>0.000000</td>\n",
       "      <td>0.000000</td>\n",
       "    </tr>\n",
       "    <tr>\n",
       "      <th>11</th>\n",
       "      <td>건강기능식품</td>\n",
       "      <td>8260</td>\n",
       "      <td>9490</td>\n",
       "      <td>30.0</td>\n",
       "      <td>51.3</td>\n",
       "      <td>0.37</td>\n",
       "      <td>0.57</td>\n",
       "      <td>15</td>\n",
       "      <td>2</td>\n",
       "      <td>8832.383099</td>\n",
       "      <td>37.859779</td>\n",
       "      <td>0.448723</td>\n",
       "    </tr>\n",
       "  </tbody>\n",
       "</table>\n",
       "</div>"
      ],
      "text/plain": [
       "   relkeyword     sch  mob_sch  click  mob_click  clk_r  mob_clk_r  num_ads  \\\n",
       "27      우체국택배  177700   426700  177.5       43.4   0.12       0.02        4   \n",
       "15     우체국쇼핑몰   65400   177500  800.0     1426.0   1.30       0.86        1   \n",
       "28        설선물   50800   158400  220.5     1060.8   0.49       0.79       15   \n",
       "33       명절선물   29100    87900  101.2      495.5   0.40       0.69       15   \n",
       "9      한우선물세트   25700    96200  445.6     4178.8   1.99       5.31       15   \n",
       "0          홍삼   23800   109200   86.8      633.6   0.40       0.65       15   \n",
       "35       선물세트   22000    46100   89.3      413.7   0.45       1.03       15   \n",
       "24         한우   16400    87200  278.4     2791.0   1.84       3.59       15   \n",
       "21   우체국인터넷뱅킹   32800     5560   24.0        0.0   0.08       0.00        1   \n",
       "11     건강기능식품    8260     9490   30.0       51.3   0.37       0.57       15   \n",
       "\n",
       "    comp          h_sch        h_clk   h_clk_r  \n",
       "27     0  250908.636664    69.746492  0.034286  \n",
       "15     0   95582.544257  1024.977538  1.035185  \n",
       "28     2   76928.489484   365.107937  0.604844  \n",
       "33     2   43724.615385   168.073069  0.506422  \n",
       "9      2   40563.412633   805.325352  2.895041  \n",
       "0      2   39082.105263   152.683176  0.495238  \n",
       "35     2   29785.609398   146.892286  0.626351  \n",
       "24     2   27607.722008   506.297257  2.433002  \n",
       "21     0    9508.237748     0.000000  0.000000  \n",
       "11     2    8832.383099    37.859779  0.448723  "
      ]
     },
     "execution_count": 20,
     "metadata": {},
     "output_type": "execute_result"
    }
   ],
   "source": [
    "tkwd.sort_values(['h_sch'],ascending=False)[:10]"
   ]
  },
  {
   "cell_type": "code",
   "execution_count": 11,
   "id": "intimate-retail",
   "metadata": {},
   "outputs": [
    {
     "data": {
      "text/plain": [
       "<matplotlib.collections.PathCollection at 0x1b0ff3efe10>"
      ]
     },
     "execution_count": 11,
     "metadata": {},
     "output_type": "execute_result"
    },
    {
     "data": {
      "image/png": "[encoded data removed]",
      "text/plain": [
       "<Figure size 432x288 with 1 Axes>"
      ]
     },
     "metadata": {
      "needs_background": "light"
     },
     "output_type": "display_data"
    }
   ],
   "source": [
    "plt.scatter(tkwd.h_sch,tkwd.h_clk)"
   ]
  },
  {
   "cell_type": "code",
   "execution_count": 1,
   "id": "likely-editing",
   "metadata": {},
   "outputs": [],
   "source": [
    "from maio import keywordTrend as kt\n",
    "ktrend = kt('홍삼')\n",
    "\n",
    "kwds = ktrend.get_keywords()"
   ]
  },
  {
   "cell_type": "code",
   "execution_count": null,
   "id": "floating-elements",
   "metadata": {},
   "outputs": [],
   "source": [
    "#### detecting outliers and removing them\n",
    "#### dispca , linear regression"
   ]
  },
  {
   "cell_type": "code",
   "execution_count": null,
   "id": "vanilla-tucson",
   "metadata": {},
   "outputs": [],
   "source": [
    "from sklearn.decomposition import PCA\n",
    "comp_n = 2\n",
    "pca = PCA(n_components=comp_n) # 주성분을 몇개로 할지 결정\n",
    "cols = []\n",
    "for x in range(comp_n):\n",
    "    cols.append('comp_%d'%x)\n",
    "printcipalComponents = pca.fit_transform(X)\n",
    "principalDf = pd.DataFrame(data=printcipalComponents, columns = cols)"
   ]
  }
 ],
 "metadata": {
  "kernelspec": {
   "display_name": "Python 3",
   "language": "python",
   "name": "python3"
  },
  "language_info": {
   "codemirror_mode": {
    "name": "ipython",
    "version": 3
   },
   "file_extension": ".py",
   "mimetype": "text/x-python",
   "name": "python",
   "nbconvert_exporter": "python",
   "pygments_lexer": "ipython3",
   "version": "3.6.12"
  },
  "widgets": {
   "application/vnd.jupyter.widget-state+json": {
    "state": {},
    "version_major": 2,
    "version_minor": 0
   }
  }
 },
 "nbformat": 4,
 "nbformat_minor": 5
}
