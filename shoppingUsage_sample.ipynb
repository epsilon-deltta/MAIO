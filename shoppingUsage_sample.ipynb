{
 "cells": [
  {
   "cell_type": "code",
   "execution_count": 1,
   "id": "close-return",
   "metadata": {},
   "outputs": [],
   "source": [
    "import pandas as pd\n",
    "import numpy as np\n",
    "import seaborn as sns\n",
    "import matplotlib.pyplot as plt\n",
    "import random as rd"
   ]
  },
  {
   "cell_type": "code",
   "execution_count": 2,
   "id": "amber-pharmaceutical",
   "metadata": {},
   "outputs": [],
   "source": [
    "import requests"
   ]
  },
  {
   "cell_type": "code",
   "execution_count": 3,
   "id": "lucky-canon",
   "metadata": {},
   "outputs": [],
   "source": [
    "\n",
    "keydict = {}\n",
    "with open('./keys.txt','r') as f:\n",
    "    lines = f.readlines()\n",
    "    for line in lines:\n",
    "        keyname = line.split('=')[0]\n",
    "        key = line.split('=',maxsplit=1)[1].strip()\n",
    "        keydict[keyname] = key\n",
    "    \n",
    "\n",
    "client_secret = keydict['src_shop_client_secret']\n",
    "client_id = keydict['src_shop_client_id']"
   ]
  },
  {
   "cell_type": "code",
   "execution_count": 5,
   "id": "single-breakfast",
   "metadata": {},
   "outputs": [],
   "source": [
    "query = '의자'\n",
    "display = 40\n",
    "url = \"\thttps://openapi.naver.com/v1/search/shop.json\";\n",
    "param = {\n",
    "    'query'   : query,\n",
    "    'display' : 40 \n",
    "}\n",
    "\n",
    "header = {}\n",
    "header[\"X-Naver-Client-Id\"] = client_id\n",
    "header[\"X-Naver-Client-Secret\"] = client_secret\n",
    "header[\"Content-Type\"]=\"application/json\"\n",
    "rq = requests.get(url ,params = param ,headers=header )"
   ]
  },
  {
   "cell_type": "code",
   "execution_count": 6,
   "id": "mechanical-airline",
   "metadata": {},
   "outputs": [],
   "source": [
    "items = rq.json()['items']"
   ]
  },
  {
   "cell_type": "code",
   "execution_count": 9,
   "id": "introductory-ebony",
   "metadata": {},
   "outputs": [
    {
     "data": {
      "text/plain": [
       "'this is fort teesting  '"
      ]
     },
     "execution_count": 9,
     "metadata": {},
     "output_type": "execute_result"
    }
   ],
   "source": [
    "import re\n",
    "te = '<b>this is fort teesting  </b>'\n",
    "re.sub('[<b>]|[</b>]','',te)"
   ]
  },
  {
   "cell_type": "code",
   "execution_count": 20,
   "id": "rising-irrigation",
   "metadata": {},
   "outputs": [],
   "source": [
    "import re\n",
    "imglinks = []\n",
    "for i in range(len(items)) :\n",
    "    items[i]['title'] = re.sub('[<b>]|[</b>]','',items[i]['title'])\n",
    "    imglinks.append(items[i]['image'])"
   ]
  },
  {
   "cell_type": "code",
   "execution_count": 37,
   "id": "iraqi-respect",
   "metadata": {},
   "outputs": [
    {
     "data": {
      "text/plain": [
       "('https://shopping-phinf.pstatic.net/main_2149852/21498527815.20210202171043',\n",
       " '.jpg')"
      ]
     },
     "execution_count": 37,
     "metadata": {},
     "output_type": "execute_result"
    }
   ],
   "source": [
    "os.path.splitext(imglinks[0])"
   ]
  },
  {
   "cell_type": "code",
   "execution_count": 42,
   "id": "accessible-friday",
   "metadata": {},
   "outputs": [],
   "source": [
    "for i in range(len(imglinks)):\n",
    "    r = requests.get(imglinks[i])\n",
    "    filename = './data/shoppingimg/%d %s%s'%(i,items[i]['title'],os.path.splitext(imglinks[i])[-1])\n",
    "    with open(filename,'wb') as f:\n",
    "        f.write(r.content)"
   ]
  },
  {
   "cell_type": "code",
   "execution_count": 23,
   "id": "cheap-invitation",
   "metadata": {},
   "outputs": [],
   "source": [
    "r = requests.get(imglinks[0])"
   ]
  },
  {
   "cell_type": "code",
   "execution_count": 30,
   "id": "strong-corruption",
   "metadata": {},
   "outputs": [
    {
     "data": {
      "text/plain": [
       "{'accept-ranges': 'bytes', 'cache-control': 'max-age=31536000', 'content-length': '294056', 'content-type': 'image/jpeg', 'expires': 'Wed, 02 Feb 2022 08:16:15 GMT', 'last-modified': 'Tue, 02 Feb 2021 08:16:15 GMT', 'p3p': 'CP=\"ALL CURa ADMa DEVa TAIa OUR BUS IND PHY ONL UNI PUR FIN COM NAV INT DEM CNT STA POL HEA PRE LOC OTC\"', 'date': 'Tue, 02 Feb 2021 08:16:15 GMT', 'age': '1310663', 'server': 'Testa/5.1.1', 'strict-transport-security': 'max-age=31536000'}"
      ]
     },
     "execution_count": 30,
     "metadata": {},
     "output_type": "execute_result"
    }
   ],
   "source": [
    "r.headers"
   ]
  },
  {
   "cell_type": "code",
   "execution_count": 17,
   "id": "balanced-documentary",
   "metadata": {},
   "outputs": [
    {
     "data": {
      "text/plain": [
       "[{'title': '에이블루 커블체어 와이더',\n",
       "  'link': 'https://search.shopping.naver.com/gate.nhn?id=21498527815',\n",
       "  'image': 'https://shopping-phinf.pstatic.net/main_2149852/21498527815.20210202171043.jpg',\n",
       "  'lprice': '36390',\n",
       "  'hprice': '166600',\n",
       "  'mallName': '네이버',\n",
       "  'productId': '21498527815',\n",
       "  'productType': '1',\n",
       "  'brand': '에이블루',\n",
       "  'maker': '에이블루',\n",
       "  'category1': '가구/인테리어',\n",
       "  'category2': '서재/사무용가구',\n",
       "  'category3': '의자',\n",
       "  'category4': '좌식의자'},\n",
       " {'title': '[커블체어] 바른자세교정 S라인 서포트 체어 2+1세트',\n",
       "  'link': 'https://search.shopping.naver.com/gate.nhn?id=80411298507',\n",
       "  'image': 'https://shopping-phinf.pstatic.net/main_8041129/80411298507.51.jpg',\n",
       "  'lprice': '89800',\n",
       "  'hprice': '0',\n",
       "  'mallName': '에이블루',\n",
       "  'productId': '80411298507',\n",
       "  'productType': '2',\n",
       "  'brand': '에이블루',\n",
       "  'maker': '에이블루',\n",
       "  'category1': '가구/인테리어',\n",
       "  'category2': '서재/사무용가구',\n",
       "  'category3': '의자',\n",
       "  'category4': '좌식의자'},\n",
       " {'title': '시디즈 S500ACF 링고 학생용의자 고정형 + 발받침대',\n",
       "  'link': 'https://search.shopping.naver.com/gate.nhn?id=9161375602',\n",
       "  'image': 'https://shopping-phinf.pstatic.net/main_9161375/9161375602.20190709164614.jpg',\n",
       "  'lprice': '152000',\n",
       "  'hprice': '246000',\n",
       "  'mallName': '네이버',\n",
       "  'productId': '9161375602',\n",
       "  'productType': '1',\n",
       "  'brand': '시디즈',\n",
       "  'maker': '시디즈',\n",
       "  'category1': '가구/인테리어',\n",
       "  'category2': '아동/주니어가구',\n",
       "  'category3': '책상의자',\n",
       "  'category4': ''},\n",
       " {'title': '체어스코 네이처 올바른 자세교정 책상 컴퓨터의자',\n",
       "  'link': 'https://search.shopping.naver.com/gate.nhn?id=8325683452',\n",
       "  'image': 'https://shopping-phinf.pstatic.net/main_8325683/8325683452.40.jpg',\n",
       "  'lprice': '33900',\n",
       "  'hprice': '0',\n",
       "  'mallName': '체어스코',\n",
       "  'productId': '8325683452',\n",
       "  'productType': '2',\n",
       "  'brand': '체어스코',\n",
       "  'maker': '마이홈의자',\n",
       "  'category1': '가구/인테리어',\n",
       "  'category2': '서재/사무용가구',\n",
       "  'category3': '사무/교구용가구',\n",
       "  'category4': '사무용의자'},\n",
       " {'title': '에이블루 커블체어 컴피',\n",
       "  'link': 'https://search.shopping.naver.com/gate.nhn?id=24199611843',\n",
       "  'image': 'https://shopping-phinf.pstatic.net/main_2419961/24199611843.20201118110228.jpg',\n",
       "  'lprice': '34960',\n",
       "  'hprice': '100000',\n",
       "  'mallName': '네이버',\n",
       "  'productId': '24199611843',\n",
       "  'productType': '1',\n",
       "  'brand': '에이블루',\n",
       "  'maker': '에이블루',\n",
       "  'category1': '가구/인테리어',\n",
       "  'category2': '서재/사무용가구',\n",
       "  'category3': '의자',\n",
       "  'category4': '좌식의자'},\n",
       " {'title': '[에이블루] 국민체조요정 손연재 Pick  바른자세 교정의자 커블체어 와이더키즈컴피 중 택 1',\n",
       "  'link': 'https://search.shopping.naver.com/gate.nhn?id=82477153024',\n",
       "  'image': 'https://shopping-phinf.pstatic.net/main_8247715/82477153024.4.jpg',\n",
       "  'lprice': '49000',\n",
       "  'hprice': '0',\n",
       "  'mallName': '씨앤씨스토리',\n",
       "  'productId': '82477153024',\n",
       "  'productType': '2',\n",
       "  'brand': '',\n",
       "  'maker': '에이블루',\n",
       "  'category1': '가구/인테리어',\n",
       "  'category2': '서재/사무용가구',\n",
       "  'category3': '의자',\n",
       "  'category4': '좌식의자'},\n",
       " {'title': '식탁연구소 4인용 6인용 이태리 세라믹식탁 세트 1300 1700',\n",
       "  'link': 'https://search.shopping.naver.com/gate.nhn?id=82234482274',\n",
       "  'image': 'https://shopping-phinf.pstatic.net/main_8223448/82234482274.1.jpg',\n",
       "  'lprice': '619000',\n",
       "  'hprice': '0',\n",
       "  'mallName': '식탁연구소',\n",
       "  'productId': '82234482274',\n",
       "  'productType': '2',\n",
       "  'brand': '',\n",
       "  'maker': '',\n",
       "  'category1': '가구/인테리어',\n",
       "  'category2': '주방가구',\n",
       "  'category3': '식탁/의자',\n",
       "  'category4': '식탁세트'},\n",
       " {'title': '시디즈 T20 TAB+ 탭플러스 T200HF 메쉬의자 TNA200HF',\n",
       "  'link': 'https://search.shopping.naver.com/gate.nhn?id=25771883522',\n",
       "  'image': 'https://shopping-phinf.pstatic.net/main_2577188/25771883522.20210128144652.jpg',\n",
       "  'lprice': '149900',\n",
       "  'hprice': '195900',\n",
       "  'mallName': '네이버',\n",
       "  'productId': '25771883522',\n",
       "  'productType': '1',\n",
       "  'brand': '시디즈',\n",
       "  'maker': '시디즈',\n",
       "  'category1': '가구/인테리어',\n",
       "  'category2': '서재/사무용가구',\n",
       "  'category3': '의자',\n",
       "  'category4': '목받침의자'},\n",
       " {'title': '린백 사무실 학생용 컴퓨터 사무용 의자',\n",
       "  'link': 'https://search.shopping.naver.com/gate.nhn?id=80198850103',\n",
       "  'image': 'https://shopping-phinf.pstatic.net/main_8019885/80198850103.10.jpg',\n",
       "  'lprice': '29800',\n",
       "  'hprice': '0',\n",
       "  'mallName': '린백의자',\n",
       "  'productId': '80198850103',\n",
       "  'productType': '2',\n",
       "  'brand': '린백',\n",
       "  'maker': '린백',\n",
       "  'category1': '가구/인테리어',\n",
       "  'category2': '서재/사무용가구',\n",
       "  'category3': '사무/교구용가구',\n",
       "  'category4': '사무용의자'},\n",
       " {'title': '[희망일배송]이즈네이처 써클 오리지널 Italy 세라믹 6인용 식탁세트 1800 대형사이즈 원목식탁',\n",
       "  'link': 'https://search.shopping.naver.com/gate.nhn?id=82089790947',\n",
       "  'image': 'https://shopping-phinf.pstatic.net/main_8208979/82089790947.1.jpg',\n",
       "  'lprice': '647000',\n",
       "  'hprice': '0',\n",
       "  'mallName': '이즈네이처',\n",
       "  'productId': '82089790947',\n",
       "  'productType': '2',\n",
       "  'brand': '이즈네이처',\n",
       "  'maker': '이즈네이처',\n",
       "  'category1': '가구/인테리어',\n",
       "  'category2': '주방가구',\n",
       "  'category3': '식탁/의자',\n",
       "  'category4': '식탁세트'}]"
      ]
     },
     "execution_count": 17,
     "metadata": {},
     "output_type": "execute_result"
    }
   ],
   "source": [
    "items[:10]"
   ]
  },
  {
   "cell_type": "code",
   "execution_count": 10,
   "id": "built-correction",
   "metadata": {},
   "outputs": [
    {
     "name": "stdout",
     "output_type": "stream",
     "text": [
      "에이블루 커블<b>체어</b> 와이더\n",
      "[커블<b>체어</b>] 바른자세교정 S라인 서포트 <b>체어</b> 2+1세트\n",
      "시디즈 S500ACF 링고 학생용<b>의자</b> 고정형 + 발받침대\n",
      "<b>체어</b>스코 네이처 올바른 자세교정 책상 컴퓨터<b>의자</b>\n",
      "에이블루 커블<b>체어</b> 컴피\n",
      "[에이블루] 국민체조요정 손연재 Pick / 바른자세 교정<b>의자</b> 커블<b>체어</b> 와이더/키즈/컴피 중 택 1\n",
      "식탁연구소 4인용 6인용 이태리 세라믹식탁 세트 1300 1700\n",
      "시디즈 T20 TAB+ 탭플러스 T200HF 메쉬<b>의자</b> TNA200HF\n",
      "린백 사무실 학생용 컴퓨터 사무용 <b>의자</b>\n",
      "[희망일배송]이즈네이처 써클 오리지널 Italy 세라믹 6인용 식탁세트 1800 대형사이즈 원목식탁\n",
      "레전드 프리미엄 컴퓨터 PC방 게이밍<b>의자</b>\n",
      "린백 카페 인테리어 원목 식탁<b>의자</b>\n",
      "[희망일배송] 고무나무 원목 로렌 II 4인용 6인용 식탁세트\n",
      "[희망일배송] 비앙코카라라 대리석 골드 4인용 식탁세트\n",
      "NEW 커블<b>체어</b> 와이더 컴피 바른자세 허리 교정 손연재 <b>의자</b> /써클\n",
      "4인 6인용 세라믹 식탁세트, 12T 포셀린 세라믹 베네치아\n",
      "시디즈 링고<b>의자</b> 고정형 학생용<b>의자</b> SNA500ACF\n",
      "4인 6인용 천연 원목 세라믹 식탁세트, 12T 포셀린 세라믹 앨리스\n",
      "레트로하우스 덴 원목 4인용 6인용 식탁세트\n",
      "동서가구 모던 2인 식탁 세트 4종택/하이그로시/와이드 상판\n",
      "피카소 인테리어 디자인 카페 식탁<b>의자</b> 20종 모음전\n",
      "율디가구 베레스 고무나무 원목 4인용 6인용 식탁세트 (벤치형/<b>의자</b>형)\n",
      "[희망일배송] 로포텐 킹덤 원목 4인용식탁 6인용 식탁세트\n",
      "린백 프리무빙백 국산 사무용 컴퓨터 책상 <b>의자</b>\n",
      "시디즈 T50 AIR 시리즈 T500HLDA 에어 화이트쉘 메쉬<b>의자</b>\n",
      "전동 1인용 리클라이너 소파 클렙튼 자동 가죽 <b>의자</b>\n",
      "원목 카페 식탁<b>의자</b>\n",
      "[희망일배송] 로포텐 하프 천연 세라믹 4인용 6인용 식탁세트 1400 1800 원목식탁\n",
      "이찌라쿠 허리디스크 좌식<b>의자</b> 등받이 14단 스트레스레스 리클라이너\n",
      "리바트 꼼므 1200 아이책상 + <b>의자</b> 세트\n",
      "4인용 6인용 [베스트]히에라 대리석 원목 식탁 4인 / 6인 식탁세트\n",
      "제닉스 ARENA-X ZERO <b>CHAIR</b> 컴퓨터 게이밍 <b>의자</b>\n",
      "에이블루 커블<b>체어</b> 와이더 3개\n",
      "<b>체어</b>센스 중역 사무용 책상 사장님 컴퓨터 pc방 <b>의자</b>\n",
      "인테리어 아일랜드 식탁 <b>의자</b> 모음전 카페 홈바 바텐 빠텐 높은 바 스툴 스탠드 높이조절\n",
      "COX XGC10 게이밍 <b>의자</b>\n",
      "시디즈 T50 TNA501FE 서울대 <b>의자</b> 반고정 사무실 편안한 학생 공부 책상 <b>의자</b>\n",
      "한샘 포레 릴렉스 4인 식탁 벤치세트 + <b>의자</b>2 벤치1\n",
      "마켓비 OLIVER 원목스툴 원형<b>의자</b>\n",
      "[루나랩 키즈] 어린이 초등학생 바른자세 책상, 학생 공부 높이 각도 조절\n"
     ]
    }
   ],
   "source": [
    "for x in items:\n",
    "    print(x['title'])"
   ]
  }
 ],
 "metadata": {
  "kernelspec": {
   "display_name": "Python 3",
   "language": "python",
   "name": "python3"
  },
  "language_info": {
   "codemirror_mode": {
    "name": "ipython",
    "version": 3
   },
   "file_extension": ".py",
   "mimetype": "text/x-python",
   "name": "python",
   "nbconvert_exporter": "python",
   "pygments_lexer": "ipython3",
   "version": "3.6.12"
  },
  "widgets": {
   "application/vnd.jupyter.widget-state+json": {
    "state": {},
    "version_major": 2,
    "version_minor": 0
   }
  }
 },
 "nbformat": 4,
 "nbformat_minor": 5
}
